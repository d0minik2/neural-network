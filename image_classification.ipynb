{
 "cells": [
  {
   "cell_type": "markdown",
   "source": [
    "Importing neural network model and MNIST dataset\n"
   ],
   "metadata": {
    "collapsed": false
   }
  },
  {
   "cell_type": "code",
   "execution_count": 22,
   "metadata": {
    "collapsed": true
   },
   "outputs": [],
   "source": [
    "import mnist\n",
    "from network import NeuralNetwork, load_network"
   ]
  },
  {
   "cell_type": "markdown",
   "source": [
    "Getting MNIST dataset"
   ],
   "metadata": {
    "collapsed": false,
    "pycharm": {
     "name": "#%% md\n"
    }
   }
  },
  {
   "cell_type": "code",
   "execution_count": null,
   "outputs": [],
   "source": [
    "training_data, test_data = mnist.get_data()"
   ],
   "metadata": {
    "collapsed": false,
    "pycharm": {
     "name": "#%%\n"
    }
   }
  },
  {
   "cell_type": "markdown",
   "source": [
    "Creating a model with 784 input neurons, 100 and 70 hidden layer neurons, and 10 output neurons. Then training the model using the MNIST dataset with 15 epochs and a mini batch size of 20."
   ],
   "metadata": {
    "collapsed": false,
    "pycharm": {
     "name": "#%% md\n"
    }
   }
  },
  {
   "cell_type": "code",
   "execution_count": 14,
   "outputs": [
    {
     "name": "stdout",
     "output_type": "stream",
     "text": [
      "\n",
      "epoch 1/15 | 1077/10000\n",
      "\n",
      "epoch 2/15 | 8192/10000\n",
      "\n",
      "epoch 3/15 | 8433/10000\n",
      "\n",
      "epoch 4/15 | 8705/10000\n",
      "\n",
      "epoch 5/15 | 8746/10000\n",
      "\n",
      "epoch 6/15 | 8823/10000\n",
      "\n",
      "epoch 7/15 | 8766/10000\n",
      "\n",
      "epoch 8/15 | 8892/10000\n",
      "\n",
      "epoch 9/15 | 8908/10000\n",
      "\n",
      "epoch 10/15 | 8860/10000\n",
      "\n",
      "epoch 11/15 | 8902/10000\n",
      "\n",
      "epoch 12/15 | 8957/10000\n",
      "\n",
      "epoch 13/15 | 8913/10000\n",
      "\n",
      "epoch 14/15 | 8966/10000\n",
      "\n",
      "epoch 15/15 | 8949/10000\n"
     ]
    }
   ],
   "source": [
    "network = NeuralNetwork([784, 100, 70, 10])\n",
    "network.train(training_data, epoch=15, mini_batch_size=20, test_data=test_data)"
   ],
   "metadata": {
    "collapsed": false,
    "pycharm": {
     "name": "#%%\n"
    }
   }
  },
  {
   "cell_type": "markdown",
   "source": [
    "Or loading it from file"
   ],
   "metadata": {
    "collapsed": false,
    "pycharm": {
     "name": "#%% md\n"
    }
   }
  },
  {
   "cell_type": "code",
   "execution_count": null,
   "outputs": [],
   "source": [
    "network = load_network(\"data\\\\network.pickle\")"
   ],
   "metadata": {
    "collapsed": false,
    "pycharm": {
     "name": "#%%\n"
    }
   }
  },
  {
   "cell_type": "markdown",
   "source": [
    "Checking accuracy of the network"
   ],
   "metadata": {
    "collapsed": false
   }
  },
  {
   "cell_type": "code",
   "execution_count": 17,
   "outputs": [
    {
     "name": "stdout",
     "output_type": "stream",
     "text": [
      "Performance is 89.5%\n"
     ]
    }
   ],
   "source": [
    "print(f\"Accuracy is {round(network.test(test_data) / len(test_data) * 100, 1)}%\")"
   ],
   "metadata": {
    "collapsed": false,
    "pycharm": {
     "name": "#%%\n"
    }
   }
  },
  {
   "cell_type": "markdown",
   "source": [
    "Saving network a file"
   ],
   "metadata": {
    "collapsed": false,
    "pycharm": {
     "name": "#%% md\n"
    }
   }
  },
  {
   "cell_type": "code",
   "source": [
    "network.save(\"data\\\\network.pickle\")"
   ],
   "metadata": {
    "collapsed": false,
    "pycharm": {
     "name": "#%%\n"
    }
   },
   "execution_count": null,
   "outputs": []
  },
  {
   "cell_type": "markdown",
   "source": [
    "Making prediction for number not from MNIST dataset. The number is 4 (data\\4.png)."
   ],
   "metadata": {
    "collapsed": false,
    "pycharm": {
     "name": "#%% md\n"
    }
   }
  },
  {
   "cell_type": "code",
   "execution_count": 33,
   "outputs": [],
   "source": [
    "import numpy as np\n",
    "from PIL import Image\n",
    "\n",
    "def get_image(img_path: str) -> np.ndarray:\n",
    "    \"\"\"Converts image to numpy array that can be used as neural network input\"\"\"\n",
    "\n",
    "    image = np.asarray(Image.open(img_path))\n",
    "    grayscale = np.zeros((28, 28))\n",
    "\n",
    "    for y, i in enumerate(image):\n",
    "        for x, j in enumerate(i):\n",
    "            grayscale[y, x] = (.299 * j[0]) + (.587 * j[1]) + (.114 * j[2])\n",
    "\n",
    "    image = abs(grayscale - 255).reshape((784, 1)) / 255\n",
    "\n",
    "    return image"
   ],
   "metadata": {
    "collapsed": false,
    "pycharm": {
     "name": "#%%\n"
    }
   }
  },
  {
   "cell_type": "code",
   "execution_count": 34,
   "outputs": [
    {
     "name": "stdout",
     "output_type": "stream",
     "text": [
      "This is 4\n"
     ]
    }
   ],
   "source": [
    "image_path = \"data\\\\4.png\"\n",
    "print(f\"This is {network.calculate(get_image(image_path), argmax = True)}\")"
   ],
   "metadata": {
    "collapsed": false,
    "pycharm": {
     "name": "#%%\n"
    }
   }
  }
 ],
 "metadata": {
  "kernelspec": {
   "name": "python3",
   "language": "python",
   "display_name": "Python 3 (ipykernel)"
  },
  "language_info": {
   "codemirror_mode": {
    "name": "ipython",
    "version": 2
   },
   "file_extension": ".py",
   "mimetype": "text/x-python",
   "name": "python",
   "nbconvert_exporter": "python",
   "pygments_lexer": "ipython2",
   "version": "2.7.6"
  }
 },
 "nbformat": 4,
 "nbformat_minor": 0
}