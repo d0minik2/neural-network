{
 "cells": [
  {
   "cell_type": "markdown",
   "metadata": {},
   "source": [
    "Importing neural network model and MNIST dataset\n"
   ]
  },
  {
   "cell_type": "code",
   "execution_count": 3,
   "metadata": {},
   "outputs": [],
   "source": [
    "from scripts import mnist\n",
    "from scripts.network import NeuralNetwork, load_network\n",
    "\n",
    "from matplotlib import pyplot as plt\n",
    "from matplotlib import image as mpimg"
   ]
  },
  {
   "cell_type": "markdown",
   "metadata": {
    "pycharm": {
     "name": "#%% md\n"
    }
   },
   "source": [
    "Getting MNIST dataset"
   ]
  },
  {
   "cell_type": "code",
   "execution_count": 4,
   "metadata": {
    "pycharm": {
     "name": "#%%\n"
    }
   },
   "outputs": [],
   "source": [
    "training_data, test_data = mnist.get_data()"
   ]
  },
  {
   "cell_type": "markdown",
   "metadata": {
    "pycharm": {
     "name": "#%% md\n"
    }
   },
   "source": [
    "Creating a model with 784 input neurons, 100 and 70 hidden layer neurons, and 10 output neurons. Then training the model using the MNIST dataset with 15 epochs and a mini batch size of 20."
   ]
  },
  {
   "cell_type": "code",
   "execution_count": 5,
   "metadata": {
    "pycharm": {
     "name": "#%%\n"
    }
   },
   "outputs": [
    {
     "name": "stdout",
     "output_type": "stream",
     "text": [
      "\n",
      "epoch 1/15 | 1127/10000\n",
      "\n",
      "epoch 2/15 | 7575/10000\n",
      "\n",
      "epoch 3/15 | 7814/10000\n",
      "\n",
      "epoch 4/15 | 7848/10000\n",
      "\n",
      "epoch 5/15 | 8022/10000\n",
      "\n",
      "epoch 6/15 | 8044/10000\n",
      "\n",
      "epoch 7/15 | 8780/10000\n",
      "\n",
      "epoch 8/15 | 8838/10000\n",
      "\n",
      "epoch 9/15 | 8878/10000\n",
      "\n",
      "epoch 10/15 | 8862/10000\n",
      "\n",
      "epoch 11/15 | 8904/10000\n",
      "\n",
      "epoch 12/15 | 8942/10000\n",
      "\n",
      "epoch 13/15 | 8914/10000\n",
      "\n",
      "epoch 14/15 | 8998/10000\n",
      "\n",
      "epoch 15/15 | 9011/10000\n"
     ]
    }
   ],
   "source": [
    "network = NeuralNetwork([784, 100, 70, 10])\n",
    "network.train(training_data, epoch=15, mini_batch_size=20, test_data=test_data)"
   ]
  },
  {
   "cell_type": "markdown",
   "metadata": {
    "pycharm": {
     "name": "#%% md\n"
    }
   },
   "source": [
    "Or loading it from file"
   ]
  },
  {
   "cell_type": "code",
   "execution_count": null,
   "metadata": {
    "pycharm": {
     "name": "#%%\n"
    }
   },
   "outputs": [],
   "source": [
    "network = load_network(\"data\\\\network.pickle\")"
   ]
  },
  {
   "cell_type": "markdown",
   "metadata": {},
   "source": [
    "Checking accuracy of the network"
   ]
  },
  {
   "cell_type": "code",
   "execution_count": 6,
   "metadata": {
    "pycharm": {
     "name": "#%%\n"
    }
   },
   "outputs": [
    {
     "name": "stdout",
     "output_type": "stream",
     "text": [
      "Accuracy is 89.8%\n"
     ]
    }
   ],
   "source": [
    "print(f\"Accuracy is {round(network.test(test_data) / len(test_data) * 100, 1)}%\")"
   ]
  },
  {
   "cell_type": "markdown",
   "metadata": {
    "pycharm": {
     "name": "#%% md\n"
    }
   },
   "source": [
    "Saving network a file"
   ]
  },
  {
   "cell_type": "code",
   "execution_count": 7,
   "metadata": {
    "pycharm": {
     "name": "#%%\n"
    }
   },
   "outputs": [],
   "source": [
    "network.save(\"data\\\\network.pickle\")"
   ]
  },
  {
   "cell_type": "markdown",
   "metadata": {
    "pycharm": {
     "name": "#%% md\n"
    }
   },
   "source": [
    "Making prediction for number not from MNIST dataset. The number is 4 (data\\4.png)."
   ]
  },
  {
   "cell_type": "code",
   "execution_count": 8,
   "metadata": {
    "pycharm": {
     "name": "#%%\n"
    }
   },
   "outputs": [],
   "source": [
    "import numpy as np\n",
    "from PIL import Image\n",
    "\n",
    "def get_image(img_path: str) -> np.ndarray:\n",
    "    \"\"\"Converts image to numpy array that can be used as neural network input\"\"\"\n",
    "\n",
    "    image = np.asarray(Image.open(img_path))\n",
    "    grayscale = np.zeros((28, 28))\n",
    "\n",
    "    for y, i in enumerate(image):\n",
    "        for x, j in enumerate(i):\n",
    "            grayscale[y, x] = (.299 * j[0]) + (.587 * j[1]) + (.114 * j[2])\n",
    "\n",
    "    image = abs(grayscale - 255).reshape((784, 1)) / 255\n",
    "\n",
    "    return image"
   ]
  },
  {
   "cell_type": "code",
   "execution_count": 9,
   "metadata": {
    "pycharm": {
     "name": "#%%\n"
    }
   },
   "outputs": [
    {
     "name": "stdout",
     "output_type": "stream",
     "text": [
      "This is 4\n"
     ]
    },
    {
     "data": {
      "image/png": "[encoded data removed]",
      "text/plain": [
       "<Figure size 432x288 with 1 Axes>"
      ]
     },
     "metadata": {
      "needs_background": "light"
     },
     "output_type": "display_data"
    }
   ],
   "source": [
    "# load the image\n",
    "image = get_image(\"data\\\\4.png\")\n",
    "\n",
    "# show the image\n",
    "plt.imshow(image.reshape((28, 28)))\n",
    "\n",
    "print(f\"This is {network.calculate(image, argmax = True)}\")"
   ]
  },
  {
   "cell_type": "code",
   "execution_count": null,
   "metadata": {},
   "outputs": [],
   "source": []
  }
 ],
 "metadata": {
  "kernelspec": {
   "display_name": "Python 3 (ipykernel)",
   "language": "python",
   "name": "python3"
  },
  "language_info": {
   "codemirror_mode": {
    "name": "ipython",
    "version": 3
   },
   "file_extension": ".py",
   "mimetype": "text/x-python",
   "name": "python",
   "nbconvert_exporter": "python",
   "pygments_lexer": "ipython3",
   "version": "3.9.12"
  }
 },
 "nbformat": 4,
 "nbformat_minor": 1
}
